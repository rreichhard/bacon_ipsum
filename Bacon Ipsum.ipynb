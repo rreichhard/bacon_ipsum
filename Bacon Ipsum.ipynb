{
 "cells": [
  {
   "cell_type": "code",
   "execution_count": 2,
   "metadata": {},
   "outputs": [],
   "source": [
    "# Import Necessary Libraries\n",
    "\n",
    "import requests\n",
    "from requests.exceptions import HTTPError"
   ]
  },
  {
   "cell_type": "code",
   "execution_count": 3,
   "metadata": {},
   "outputs": [
    {
     "name": "stdout",
     "output_type": "stream",
     "text": [
      "Other error occurred: HTTPSConnectionPool(host='baconipsum.com', port=443): Max retries exceeded with url: /api/?type=meat-and-filler (Caused by SSLError(SSLCertVerificationError(1, '[SSL: CERTIFICATE_VERIFY_FAILED] certificate verify failed: unable to get local issuer certificate (_ssl.c:1123)')))\n"
     ]
    }
   ],
   "source": [
    "try:\n",
    "    response = requests.get('https://baconipsum.com/api/?type=meat-and-filler')\n",
    "    response.raise_for_status()\n",
    "    \n",
    "    jsonResponse = response.json()\n",
    "    print(\"Entire JSON response\")\n",
    "    print(jsonResponse)\n",
    "    \n",
    "except HTTPError as http_err:\n",
    "    print(f'HTTP error occurred: {http_err}')\n",
    "except Exception as err:\n",
    "    print(f'Other error occurred: {err}')"
   ]
  },
  {
   "cell_type": "code",
   "execution_count": null,
   "metadata": {},
   "outputs": [],
   "source": []
  }
 ],
 "metadata": {
  "kernelspec": {
   "display_name": "Python 3",
   "language": "python",
   "name": "python3"
  },
  "language_info": {
   "codemirror_mode": {
    "name": "ipython",
    "version": 3
   },
   "file_extension": ".py",
   "mimetype": "text/x-python",
   "name": "python",
   "nbconvert_exporter": "python",
   "pygments_lexer": "ipython3",
   "version": "3.8.5"
  }
 },
 "nbformat": 4,
 "nbformat_minor": 4
}
